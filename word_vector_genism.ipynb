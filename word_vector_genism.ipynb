{
  "nbformat": 4,
  "nbformat_minor": 0,
  "metadata": {
    "colab": {
      "provenance": [],
      "gpuType": "T4"
    },
    "kernelspec": {
      "name": "python3",
      "display_name": "Python 3"
    },
    "language_info": {
      "name": "python"
    },
    "accelerator": "GPU"
  },
  "cells": [
    {
      "cell_type": "code",
      "execution_count": 1,
      "metadata": {
        "colab": {
          "base_uri": "https://localhost:8080/"
        },
        "id": "y1RjbsFBPAIF",
        "outputId": "898c909c-eb8c-452a-a02c-f11883d17076"
      },
      "outputs": [
        {
          "output_type": "stream",
          "name": "stdout",
          "text": [
            "[==================================================] 100.0% 1662.8/1662.8MB downloaded\n",
            "0.72915095\n",
            "[('great', 0.7291510105133057), ('bad', 0.7190051078796387), ('terrific', 0.6889115571975708), ('decent', 0.6837348341941833), ('nice', 0.6836092472076416), ('excellent', 0.644292950630188), ('fantastic', 0.6407778263092041), ('better', 0.6120728850364685), ('solid', 0.5806034803390503), ('lousy', 0.576420247554779)]\n",
            "[('queen', 0.7118193507194519), ('monarch', 0.6189674139022827), ('princess', 0.5902431011199951), ('crown_prince', 0.5499460697174072), ('prince', 0.5377321839332581)]\n",
            "cat\n"
          ]
        }
      ],
      "source": [
        "import gensim.downloader as api\n",
        "\n",
        "# Load the Word2Vec model\n",
        "wv = api.load('word2vec-google-news-300')\n",
        "\n",
        "# Check similarity between two words\n",
        "similarity_score = wv.similarity(w1=\"great\", w2=\"good\")\n",
        "print(similarity_score)\n",
        "\n",
        "# Find most similar words to a given word\n",
        "most_similar_words = wv.most_similar(\"good\")\n",
        "print(most_similar_words)\n",
        "\n",
        "# Perform vector arithmetic to find words (e.g., king - man + woman = queen)\n",
        "vector_arithmetic_result = wv.most_similar(positive=['king', 'woman'], negative=['man'], topn=5)\n",
        "print(vector_arithmetic_result)\n",
        "\n",
        "# Find the odd one out in a list of words\n",
        "odd_one_out = wv.doesnt_match([\"facebook\", \"cat\", \"google\", \"microsoft\"])\n",
        "print(odd_one_out)\n"
      ]
    },
    {
      "cell_type": "code",
      "source": [
        "# Load the GloVe model\n",
        "glv = api.load(\"glove-twitter-25\")\n",
        "\n",
        "# Find most similar words to a given word\n",
        "most_similar_words_glove = glv.most_similar(\"good\")\n",
        "print(most_similar_words_glove)\n",
        "\n",
        "# Find the odd one out in a list of words\n",
        "odd_one_out_glove = glv.doesnt_match(\"breakfast cereal dinner lunch\".split())\n",
        "print(odd_one_out_glove)\n",
        "\n",
        "# Another example of finding the odd one out\n",
        "odd_one_out_glove2 = glv.doesnt_match(\"facebook cat google microsoft\".split())\n",
        "print(odd_one_out_glove2)\n",
        "\n",
        "# Another example of finding the odd one out\n",
        "odd_one_out_glove3 = glv.doesnt_match(\"banana grapes orange human\".split())\n",
        "print(odd_one_out_glove3)\n"
      ],
      "metadata": {
        "colab": {
          "base_uri": "https://localhost:8080/"
        },
        "id": "msEWUbP5PRFI",
        "outputId": "e7eef81e-9892-47cc-eb56-ec63d26fa068"
      },
      "execution_count": 2,
      "outputs": [
        {
          "output_type": "stream",
          "name": "stdout",
          "text": [
            "[==================================================] 100.0% 104.8/104.8MB downloaded\n",
            "[('too', 0.9648017287254333), ('day', 0.9533665180206299), ('well', 0.9503170847892761), ('nice', 0.9438973665237427), ('better', 0.9425962567329407), ('fun', 0.9418926239013672), ('much', 0.9413353800773621), ('this', 0.9387555122375488), ('hope', 0.9383506774902344), ('great', 0.9378516674041748)]\n",
            "cereal\n",
            "cat\n",
            "human\n"
          ]
        }
      ]
    }
  ]
}