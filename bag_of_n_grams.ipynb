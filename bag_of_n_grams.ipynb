{
  "nbformat": 4,
  "nbformat_minor": 0,
  "metadata": {
    "colab": {
      "provenance": []
    },
    "kernelspec": {
      "name": "python3",
      "display_name": "Python 3"
    },
    "language_info": {
      "name": "python"
    }
  },
  "cells": [
    {
      "cell_type": "code",
      "source": [
        "from sklearn.feature_extraction.text import CountVectorizer\n",
        "\n",
        "# Sample data\n",
        "corpus = [\n",
        "    \"This is a positive example\",\n",
        "    \"Another example for demonstration purposes\",\n",
        "    \"Not a positive example\",\n",
        "    \"Yet another example\"\n",
        "]\n",
        "\n",
        "# Define the range of n-grams (you can adjust n_gram_range based on your requirement)\n",
        "n_gram_range = (1, 2)  # This will create both unigrams and bigrams\n",
        "\n",
        "# Create a CountVectorizer with specified n-gram range\n",
        "vectorizer = CountVectorizer(ngram_range=n_gram_range)\n",
        "\n",
        "# Fit and transform the corpus\n",
        "X = vectorizer.fit_transform(corpus)\n",
        "\n",
        "# Get the feature names (words or n-grams)\n",
        "feature_names = vectorizer.get_feature_names_out()\n",
        "\n",
        "# Convert the sparse matrix to a dense array for better readability\n",
        "dense_array = X.toarray()\n",
        "\n",
        "# Display the resulting bag of n-grams as a DataFrame\n",
        "import pandas as pd\n",
        "df = pd.DataFrame(dense_array, columns=feature_names)\n",
        "print(df)\n"
      ],
      "metadata": {
        "colab": {
          "base_uri": "https://localhost:8080/"
        },
        "id": "5guX36lB_oz_",
        "outputId": "ba365163-d7cc-412d-db94-4b5718489024"
      },
      "execution_count": 2,
      "outputs": [
        {
          "output_type": "stream",
          "name": "stdout",
          "text": [
            "   another  another example  demonstration  demonstration purposes  example  \\\n",
            "0        0                0              0                       0        1   \n",
            "1        1                1              1                       1        1   \n",
            "2        0                0              0                       0        1   \n",
            "3        1                1              0                       0        1   \n",
            "\n",
            "   example for  for  for demonstration  is  is positive  not  not positive  \\\n",
            "0            0    0                  0   1            1    0             0   \n",
            "1            1    1                  1   0            0    0             0   \n",
            "2            0    0                  0   0            0    1             1   \n",
            "3            0    0                  0   0            0    0             0   \n",
            "\n",
            "   positive  positive example  purposes  this  this is  yet  yet another  \n",
            "0         1                 1         0     1        1    0            0  \n",
            "1         0                 0         1     0        0    0            0  \n",
            "2         1                 1         0     0        0    0            0  \n",
            "3         0                 0         0     0        0    1            1  \n"
          ]
        }
      ]
    }
  ]
}