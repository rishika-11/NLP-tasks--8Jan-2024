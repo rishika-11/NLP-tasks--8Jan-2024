{
  "nbformat": 4,
  "nbformat_minor": 0,
  "metadata": {
    "colab": {
      "provenance": []
    },
    "kernelspec": {
      "name": "python3",
      "display_name": "Python 3"
    },
    "language_info": {
      "name": "python"
    }
  },
  "cells": [
    {
      "cell_type": "markdown",
      "source": [
        "1. Extract all twitter handles from following text. Twitter handle is the text that appears after https://twitter.com/ and is a single word. Also it contains only alpha numeric characters i.e. A-Z a-z , o to 9 and underscore _\n"
      ],
      "metadata": {
        "id": "StVcNbYQu0wg"
      }
    },
    {
      "cell_type": "code",
      "execution_count": 1,
      "metadata": {
        "colab": {
          "base_uri": "https://localhost:8080/"
        },
        "id": "q5zJMNh3unZw",
        "outputId": "6586fb01-2bf6-4c20-c5d5-de793c50cb3c"
      },
      "outputs": [
        {
          "output_type": "stream",
          "name": "stdout",
          "text": [
            "['elonmusk', 'teslarati', 'dummy_tesla', 'dummy_2_tesla']\n"
          ]
        }
      ],
      "source": [
        "import re\n",
        "\n",
        "text = '''\n",
        "Follow our leader Elon musk on twitter here: https://twitter.com/elonmusk, more information\n",
        "on Tesla's products can be found at https://www.tesla.com/. Also here are leading influencers\n",
        "for tesla related news,\n",
        "https://twitter.com/teslarati\n",
        "https://twitter.com/dummy_tesla\n",
        "https://twitter.com/dummy_2_tesla\n",
        "'''\n",
        "\n",
        "pattern = re.compile(r'https://twitter\\.com/([a-zA-Z0-9_]+)')\n",
        "twitter_handles = [match.group(1) for match in pattern.finditer(text)]\n",
        "print(twitter_handles)\n"
      ]
    },
    {
      "cell_type": "markdown",
      "source": [
        "2. Extract Concentration Risk Types. It will be a text that appears after \"Concentration Risk:\", In below example, your regex should extract these two strings\n",
        "\n",
        "    (1) Credit Risk\n",
        "    (2) Supply Rish"
      ],
      "metadata": {
        "id": "ABc0iwSEu5r6"
      }
    },
    {
      "cell_type": "code",
      "source": [
        "text = '''\n",
        "Concentration of Risk: Credit Risk\n",
        "Financial instruments that potentially subject us to a concentration of credit risk consist of cash, cash equivalents, marketable securities,\n",
        "restricted cash, accounts receivable, convertible note hedges, and interest rate swaps. Our cash balances are primarily invested in money market funds\n",
        "or on deposit at high credit quality financial institutions in the U.S. These deposits are typically in excess of insured limits. As of September 30, 2021\n",
        "and December 31, 2020, no entity represented 10% or more of our total accounts receivable balance. The risk of concentration for our convertible note\n",
        "hedges and interest rate swaps is mitigated by transacting with several highly-rated multinational banks.\n",
        "Concentration of Risk: Supply Risk\n",
        "We are dependent on our suppliers, including single source suppliers, and the inability of these suppliers to deliver necessary components of our\n",
        "products in a timely manner at prices, quality levels and volumes acceptable to us, or our inability to efficiently manage these components from these\n",
        "suppliers, could have a material adverse effect on our business, prospects, financial condition and operating results.\n",
        "'''\n",
        "\n",
        "pattern = re.compile(r'Concentration of Risk: ([^\\n]*)')\n",
        "concentration_risks = [match.group(1) for match in pattern.finditer(text)]\n",
        "print(concentration_risks)\n"
      ],
      "metadata": {
        "colab": {
          "base_uri": "https://localhost:8080/"
        },
        "id": "0pXdRR4hutfJ",
        "outputId": "0b8d4b6e-acd1-4b9c-91ca-d9a79e897f68"
      },
      "execution_count": 2,
      "outputs": [
        {
          "output_type": "stream",
          "name": "stdout",
          "text": [
            "['Credit Risk', 'Supply Risk']\n"
          ]
        }
      ]
    },
    {
      "cell_type": "markdown",
      "source": [
        "3. Companies in europe reports their financial numbers of semi annual basis and you can have a document like this. To exatract quarterly and semin annual period you can use a regex as shown below"
      ],
      "metadata": {
        "id": "9zTI7to9vCzT"
      }
    },
    {
      "cell_type": "code",
      "source": [
        "text = '''\n",
        "Tesla's gross cost of operating lease vehicles in FY2021 Q1 was $4.85 billion.\n",
        "BMW's gross cost of operating vehicles in FY2021 S1 was $8 billion.\n",
        "'''\n",
        "\n",
        "pattern = re.compile(r'FY(\\d{4} (?:Q[1-4]|S[1-2]))')\n",
        "matches = [match.group(1) for match in pattern.finditer(text)]\n",
        "print(matches)\n"
      ],
      "metadata": {
        "colab": {
          "base_uri": "https://localhost:8080/"
        },
        "id": "PmlNPTGfuvl7",
        "outputId": "b607d125-1ad4-4387-b463-4383843fe93e"
      },
      "execution_count": 3,
      "outputs": [
        {
          "output_type": "stream",
          "name": "stdout",
          "text": [
            "['2021 Q1', '2021 S1']\n"
          ]
        }
      ]
    }
  ]
}