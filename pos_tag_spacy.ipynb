{
  "nbformat": 4,
  "nbformat_minor": 0,
  "metadata": {
    "colab": {
      "provenance": []
    },
    "kernelspec": {
      "name": "python3",
      "display_name": "Python 3"
    },
    "language_info": {
      "name": "python"
    }
  },
  "cells": [
    {
      "cell_type": "code",
      "execution_count": 2,
      "metadata": {
        "colab": {
          "base_uri": "https://localhost:8080/"
        },
        "id": "4jpQ6XPY2zHe",
        "outputId": "2e477044-c811-4262-f155-863762be26a5"
      },
      "outputs": [
        {
          "output_type": "stream",
          "name": "stdout",
          "text": [
            "[Microsoft, Corp., today, announced, the, following, results, for, the, quarter]\n",
            "PROPN | 3\n",
            "PROPN | 3\n",
            "NOUN | 6\n",
            "NOUN | 6\n",
            "VERB | 4\n",
            "VERB | 4\n",
            "DET | 4\n",
            "DET | 4\n",
            "ADP | 4\n",
            "ADP | 4\n",
            "NUM | 2\n",
            "NUM | 2\n",
            "PUNCT | 6\n",
            "PUNCT | 6\n",
            "SCONJ | 1\n",
            "SCONJ | 1\n",
            "ADJ | 5\n",
            "ADJ | 5\n",
            "SPACE | 3\n",
            "SPACE | 3\n"
          ]
        }
      ],
      "source": [
        "import spacy\n",
        "\n",
        "# Load the English NLP model\n",
        "nlp = spacy.load(\"en_core_web_sm\")\n",
        "\n",
        "# Example text\n",
        "earnings_text = \"\"\"Microsoft Corp. today announced the following results for the quarter ended December 31, 2021, as compared to the corresponding period of last fiscal year:\n",
        "...\n",
        "(Same as the previous example)\n",
        "\"\"\"\n",
        "\n",
        "# Process the text with Spacy\n",
        "doc = nlp(earnings_text)\n",
        "\n",
        "# Filter tokens based on POS tags (excluding SPACE, PUNCT, and X)\n",
        "filtered_tokens = [token for token in doc if not (token.is_space or token.is_punct or token.pos_ == 'X')]\n",
        "\n",
        "# Print the first 10 filtered tokens\n",
        "print(filtered_tokens[:10])\n",
        "\n",
        "# Count tokens by POS tags\n",
        "count_by_pos = doc.count_by(spacy.attrs.POS)\n",
        "\n",
        "# Print the count of tokens for each POS tag\n",
        "for pos_id, count in count_by_pos.items():\n",
        "    print(doc.vocab[pos_id].text, \"|\", count)\n",
        "\n",
        "    print(doc.vocab[pos_id].text, \"|\", count)\n"
      ]
    },
    {
      "cell_type": "code",
      "source": [
        "import spacy\n",
        "\n",
        "# Load the English NLP model\n",
        "nlp = spacy.load(\"en_core_web_sm\")\n",
        "\n",
        "# Example text\n",
        "text = \"Microsoft Corp. today announced the following results for the quarter ended December 31, 2021, as compared to the corresponding period of last fiscal year\"\n",
        "\n",
        "# Process the text with Spacy\n",
        "doc = nlp(text)\n",
        "\n",
        "# Print POS tags and explanations using list comprehension\n",
        "results = [(token.text, token.pos_, spacy.explain(token.pos_)) for token in doc]\n",
        "\n",
        "# Print the results\n",
        "for token, pos, explanation in results:\n",
        "    print(token, \"|\", pos, \"|\", explanation)\n"
      ],
      "metadata": {
        "colab": {
          "base_uri": "https://localhost:8080/"
        },
        "id": "GXTB70Ti3lfU",
        "outputId": "ad773937-e54a-408b-f02e-1469569ef007"
      },
      "execution_count": 4,
      "outputs": [
        {
          "output_type": "stream",
          "name": "stdout",
          "text": [
            "Microsoft | PROPN | proper noun\n",
            "Corp. | PROPN | proper noun\n",
            "today | NOUN | noun\n",
            "announced | VERB | verb\n",
            "the | DET | determiner\n",
            "following | VERB | verb\n",
            "results | NOUN | noun\n",
            "for | ADP | adposition\n",
            "the | DET | determiner\n",
            "quarter | NOUN | noun\n",
            "ended | VERB | verb\n",
            "December | PROPN | proper noun\n",
            "31 | NUM | numeral\n",
            ", | PUNCT | punctuation\n",
            "2021 | NUM | numeral\n",
            ", | PUNCT | punctuation\n",
            "as | SCONJ | subordinating conjunction\n",
            "compared | VERB | verb\n",
            "to | ADP | adposition\n",
            "the | DET | determiner\n",
            "corresponding | ADJ | adjective\n",
            "period | NOUN | noun\n",
            "of | ADP | adposition\n",
            "last | ADJ | adjective\n",
            "fiscal | ADJ | adjective\n",
            "year | NOUN | noun\n"
          ]
        }
      ]
    }
  ]
}