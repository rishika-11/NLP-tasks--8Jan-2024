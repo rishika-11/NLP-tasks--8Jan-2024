{
  "nbformat": 4,
  "nbformat_minor": 0,
  "metadata": {
    "colab": {
      "provenance": []
    },
    "kernelspec": {
      "name": "python3",
      "display_name": "Python 3"
    },
    "language_info": {
      "name": "python"
    }
  },
  "cells": [
    {
      "cell_type": "code",
      "execution_count": 4,
      "metadata": {
        "colab": {
          "base_uri": "https://localhost:8080/"
        },
        "id": "cUdPq9QMvdoP",
        "outputId": "b8743fcc-4faa-4f95-942a-b78fa4efcd8d"
      },
      "outputs": [
        {
          "output_type": "stream",
          "name": "stdout",
          "text": [
            "[Dr. Strange loves pav bhaji of Mumbai., Hulk loves chat of Delhi.]\n",
            "['Dr.', 'Strange', 'loves', 'pav', 'bhaji', 'of', 'Mumbai', '.', 'Hulk', 'loves', 'chat', 'of', 'Delhi', '.']\n"
          ]
        }
      ],
      "source": [
        "import spacy\n",
        "\n",
        "nlp = spacy.load(\"en_core_web_sm\")\n",
        "text = \"Dr. Strange loves pav bhaji of Mumbai. Hulk loves chat of Delhi.\"\n",
        "\n",
        "# Sentence Tokenization in Spacy\n",
        "doc = nlp(text)\n",
        "sentences = list(doc.sents)\n",
        "print(sentences)\n",
        "\n",
        "# Word Tokenization in Spacy\n",
        "tokens = [token.text for token in doc]\n",
        "print(tokens)\n"
      ]
    },
    {
      "cell_type": "code",
      "source": [
        "from nltk.tokenize import sent_tokenize, word_tokenize\n",
        "import nltk\n",
        "\n",
        "nltk.download('punkt')\n",
        "\n",
        "text = \"Dr. Strange loves pav bhaji of Mumbai. Hulk loves chat of Delhi.\"\n",
        "\n",
        "# Sentence Tokenization in NLTK\n",
        "sentences_nltk = sent_tokenize(text)\n",
        "print(sentences_nltk)\n",
        "\n",
        "# Word Tokenization in NLTK\n",
        "words_nltk = word_tokenize(text)\n",
        "print(words_nltk)\n"
      ],
      "metadata": {
        "colab": {
          "base_uri": "https://localhost:8080/"
        },
        "id": "qtCx0yxWv0Ai",
        "outputId": "ebd2bfd2-f370-419b-9fe1-ae189a5a47c4"
      },
      "execution_count": 2,
      "outputs": [
        {
          "output_type": "stream",
          "name": "stderr",
          "text": [
            "[nltk_data] Downloading package punkt to /root/nltk_data...\n",
            "[nltk_data]   Unzipping tokenizers/punkt.zip.\n"
          ]
        },
        {
          "output_type": "stream",
          "name": "stdout",
          "text": [
            "['Dr.', 'Strange loves pav bhaji of Mumbai.', 'Hulk loves chat of Delhi.']\n",
            "['Dr', '.', 'Strange', 'loves', 'pav', 'bhaji', 'of', 'Mumbai', '.', 'Hulk', 'loves', 'chat', 'of', 'Delhi', '.']\n"
          ]
        }
      ]
    }
  ]
}