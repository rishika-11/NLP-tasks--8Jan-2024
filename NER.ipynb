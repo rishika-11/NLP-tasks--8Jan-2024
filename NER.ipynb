{
  "nbformat": 4,
  "nbformat_minor": 0,
  "metadata": {
    "colab": {
      "provenance": []
    },
    "kernelspec": {
      "name": "python3",
      "display_name": "Python 3"
    },
    "language_info": {
      "name": "python"
    }
  },
  "cells": [
    {
      "cell_type": "code",
      "source": [
        "import spacy\n",
        "\n",
        "# Load the English NLP model\n",
        "nlp = spacy.load(\"en_core_web_sm\")\n",
        "\n",
        "# Exercise 1: Extract Geographical names\n",
        "text_1 = \"\"\"Kiran wants to know the famous foods in each state of India. So, he opened Google and searched for this question. Google showed that\n",
        "in Delhi it is Chaat, in Gujarat it is Dal Dhokli, in Tamilnadu it is Pongal, in Andhrapradesh it is Biryani, in Assam it is Papaya Khar,\n",
        "in Bihar it is Litti Chowkha and so on for all other states\"\"\"\n",
        "\n",
        "doc_1 = nlp(text_1)\n",
        "\n",
        "# Using a generator expression to extract Geographical names\n",
        "geographical_names = (ent.text for ent in doc_1.ents if ent.label_ == 'GPE')\n",
        "\n",
        "# Printing the results\n",
        "print(\"Geographical location Names:\", list(geographical_names))\n",
        "print(\"Count:\", len(list(geographical_names)))  # Need to convert the generator to a list for counting\n",
        "\n",
        "# Exercise 2: Extract Birth Dates\n",
        "text_2 = \"\"\"Sachin Tendulkar was born on 24 April 1973, Virat Kohli was born on 5 November 1988, Dhoni was born on 7 July 1981,\n",
        "and finally Ricky Ponting was born on 19 December 1974.\"\"\"\n",
        "\n",
        "doc_2 = nlp(text_2)\n",
        "\n",
        "# Using a generator expression to extract Birth Dates\n",
        "birth_dates = (ent.text for ent in doc_2.ents if ent.label_ == 'DATE')\n",
        "\n",
        "# Printing the results\n",
        "print(\"All Birth Dates:\", list(birth_dates))\n",
        "print(\"Count:\", len(list(birth_dates)))  # Need to convert the generator to a list for counting\n"
      ],
      "metadata": {
        "colab": {
          "base_uri": "https://localhost:8080/"
        },
        "id": "maP1tjzJ4Vmn",
        "outputId": "09ccdd2f-444a-4362-eae6-0bba3c2f1ac5"
      },
      "execution_count": 2,
      "outputs": [
        {
          "output_type": "stream",
          "name": "stdout",
          "text": [
            "Geographical location Names: ['India', 'Delhi', 'Gujarat', 'Tamilnadu', 'Pongal', 'Andhrapradesh', 'Assam', 'Bihar']\n",
            "Count: 0\n",
            "All Birth Dates: ['24 April 1973', '5 November 1988', '7 July 1981', '19 December 1974']\n",
            "Count: 0\n"
          ]
        }
      ]
    }
  ]
}