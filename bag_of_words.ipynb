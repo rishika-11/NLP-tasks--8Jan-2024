{
  "nbformat": 4,
  "nbformat_minor": 0,
  "metadata": {
    "colab": {
      "provenance": []
    },
    "kernelspec": {
      "name": "python3",
      "display_name": "Python 3"
    },
    "language_info": {
      "name": "python"
    }
  },
  "cells": [
    {
      "cell_type": "code",
      "source": [
        "import pandas as pd\n",
        "from sklearn.model_selection import train_test_split\n",
        "from sklearn.feature_extraction.text import CountVectorizer\n",
        "from sklearn.ensemble import RandomForestClassifier\n",
        "from sklearn.neighbors import KNeighborsClassifier\n",
        "from sklearn.naive_bayes import MultinomialNB\n",
        "from sklearn.pipeline import make_pipeline\n",
        "from sklearn.metrics import classification_report\n",
        "\n",
        "# Read the data\n",
        "df = pd.read_csv(\"IMDB Dataset.csv\")\n",
        "\n",
        "# Create 'Category' column\n",
        "df['Category'] = df['sentiment'].apply(lambda x: 1 if x == 'positive' else 0)\n",
        "\n",
        "# Train-test split\n",
        "X_train, X_test, y_train, y_test = train_test_split(df['review'], df['Category'], test_size=0.2)\n",
        "\n",
        "# Exercise-1: Random Forest Classifier\n",
        "rf_pipeline = make_pipeline(CountVectorizer(), RandomForestClassifier(n_estimators=50, criterion='entropy'))\n",
        "rf_pipeline.fit(X_train, y_train)\n",
        "rf_y_pred = rf_pipeline.predict(X_test)\n",
        "print(\"Random Forest Classification Report:\\n\", classification_report(y_test, rf_y_pred))\n",
        "\n",
        "# Exercise-2: K-Nearest Neighbors Classifier\n",
        "knn_pipeline = make_pipeline(CountVectorizer(), KNeighborsClassifier(n_neighbors=10, metric='euclidean'))\n",
        "knn_pipeline.fit(X_train, y_train)\n",
        "knn_y_pred = knn_pipeline.predict(X_test)\n",
        "print(\"\\nK-Nearest Neighbors Classification Report:\\n\", classification_report(y_test, knn_y_pred))\n",
        "\n",
        "# Exercise-3: Multinomial Naive Bayes Classifier\n",
        "nb_pipeline = make_pipeline(CountVectorizer(), MultinomialNB())\n",
        "nb_pipeline.fit(X_train, y_train)\n",
        "nb_y_pred = nb_pipeline.predict(X_test)\n",
        "print(\"\\nMultinomial Naive Bayes Classification Report:\\n\", classification_report(y_test, nb_y_pred))"
      ],
      "metadata": {
        "colab": {
          "base_uri": "https://localhost:8080/"
        },
        "id": "5D9R4CAN53vZ",
        "outputId": "568c10e7-4f87-401d-f523-46565cd744bf"
      },
      "execution_count": 5,
      "outputs": [
        {
          "output_type": "stream",
          "name": "stdout",
          "text": [
            "Random Forest Classification Report:\n",
            "               precision    recall  f1-score   support\n",
            "\n",
            "           0       0.84      0.84      0.84      5071\n",
            "           1       0.83      0.84      0.84      4929\n",
            "\n",
            "    accuracy                           0.84     10000\n",
            "   macro avg       0.84      0.84      0.84     10000\n",
            "weighted avg       0.84      0.84      0.84     10000\n",
            "\n",
            "\n",
            "K-Nearest Neighbors Classification Report:\n",
            "               precision    recall  f1-score   support\n",
            "\n",
            "           0       0.66      0.65      0.65      5071\n",
            "           1       0.64      0.65      0.65      4929\n",
            "\n",
            "    accuracy                           0.65     10000\n",
            "   macro avg       0.65      0.65      0.65     10000\n",
            "weighted avg       0.65      0.65      0.65     10000\n",
            "\n",
            "\n",
            "Multinomial Naive Bayes Classification Report:\n",
            "               precision    recall  f1-score   support\n",
            "\n",
            "           0       0.83      0.87      0.85      5071\n",
            "           1       0.86      0.82      0.84      4929\n",
            "\n",
            "    accuracy                           0.85     10000\n",
            "   macro avg       0.85      0.85      0.85     10000\n",
            "weighted avg       0.85      0.85      0.85     10000\n",
            "\n"
          ]
        }
      ]
    }
  ]
}