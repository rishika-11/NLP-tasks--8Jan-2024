{
  "nbformat": 4,
  "nbformat_minor": 0,
  "metadata": {
    "colab": {
      "provenance": []
    },
    "kernelspec": {
      "name": "python3",
      "display_name": "Python 3"
    },
    "language_info": {
      "name": "python"
    }
  },
  "cells": [
    {
      "cell_type": "code",
      "execution_count": 5,
      "metadata": {
        "colab": {
          "base_uri": "https://localhost:8080/"
        },
        "id": "KUdENfH08-Sw",
        "outputId": "895828bb-e330-4a11-8eb5-53981792adf8"
      },
      "outputs": [
        {
          "output_type": "stream",
          "name": "stdout",
          "text": [
            "Total Stop words presented in the given text: 40\n",
            "Percentage of Stop words presented in the given text: 25.31645569620253 %\n",
            "Text1: good movie\n",
            "Text2: not good movie\n"
          ]
        }
      ],
      "source": [
        "import spacy\n",
        "from collections import Counter\n",
        "\n",
        "# Exercise 1\n",
        "text = '''Thor: Love and Thunder is a 2022 American superhero film based on Marvel Comics featuring the character Thor, produced by Marvel Studios and\n",
        "distributed by Walt Disney Studios Motion Pictures. It is the sequel to Thor: Ragnarok (2017) and the 29th film in the Marvel Cinematic Universe (MCU).\n",
        "The film is directed by Taika Waititi, who co-wrote the script with Jennifer Kaytin Robinson, and stars Chris Hemsworth as Thor alongside Christian Bale, Tessa Thompson,\n",
        "Jaimie Alexander, Waititi, Russell Crowe, and Natalie Portman. In the film, Thor attempts to find inner peace, but must return to action and recruit Valkyrie (Thompson),\n",
        "Korg (Waititi), and Jane Foster (Portman)—who is now the Mighty Thor—to stop Gorr the God Butcher (Bale) from eliminating all gods.'''\n",
        "\n",
        "nlp = spacy.load('en_core_web_sm')\n",
        "doc = nlp(text)\n",
        "stop_words_count = sum(token.is_stop for token in doc)\n",
        "total_words_count = len(doc)\n",
        "\n",
        "percentage_stop_words = (stop_words_count / total_words_count) * 100\n",
        "print(f\"Total Stop words presented in the given text: {stop_words_count}\")\n",
        "print(f\"Percentage of Stop words presented in the given text: {percentage_stop_words} %\")\n",
        "\n",
        "# Exercise 2\n",
        "def preprocess(text):\n",
        "    doc = nlp(text)\n",
        "    no_stop_words = [token.text for token in doc if not token.is_stop]\n",
        "    return \" \".join(no_stop_words)\n",
        "\n",
        "nlp.vocab['not'].is_stop = False\n",
        "\n",
        "positive_text = preprocess('this is a good movie')\n",
        "negative_text = preprocess('this is not a good movie')\n",
        "\n",
        "print(f\"Text1: {positive_text}\")\n",
        "print(f\"Text2: {negative_text}\")\n",
        "\n",
        "# Exercise 3\n",
        "text = '''The India men's national cricket team, also known as '''"
      ]
    },
    {
      "cell_type": "code",
      "source": [
        "import spacy\n",
        "from collections import Counter\n",
        "\n",
        "# Given text\n",
        "text = ''' The India men's national cricket team, also known as Team India or the Men in Blue, represents India in men's international cricket.\n",
        "It is governed by the Board of Control for Cricket in India (BCCI), and is a Full Member of the International Cricket Council (ICC) with Test,\n",
        "One Day International (ODI) and Twenty20 International (T20I) status. Cricket was introduced to India by British sailors in the 18th century, and the\n",
        "first cricket club was established in 1792. India's national cricket team played its first Test match on 25 June 1932 at Lord's, becoming the sixth team to be\n",
        "granted test cricket status.\n",
        "'''\n",
        "\n",
        "# Create a spaCy doc object\n",
        "doc = nlp(text)\n",
        "\n",
        "# Get the remaining tokens after removing stop words, punctuations, '\\n', and ' '\n",
        "remaining_tokens = [token.text for token in doc if not (token.is_stop or token.is_punct or token.text in ['\\n', ' '])]\n",
        "\n",
        "# Use Counter to count the frequency of each word\n",
        "frequency_tokens = Counter(remaining_tokens)\n",
        "\n",
        "# Find the word with maximum frequency\n",
        "max_freq_word = frequency_tokens.most_common(1)[0][0]\n",
        "\n",
        "print(f\"Maximum frequency word: {max_freq_word}\")\n"
      ],
      "metadata": {
        "colab": {
          "base_uri": "https://localhost:8080/"
        },
        "id": "K24txc7Y-GUT",
        "outputId": "94bbfe64-6156-4871-c29c-0ccb05a55930"
      },
      "execution_count": 6,
      "outputs": [
        {
          "output_type": "stream",
          "name": "stdout",
          "text": [
            "Maximum frequency word: India\n"
          ]
        }
      ]
    }
  ]
}